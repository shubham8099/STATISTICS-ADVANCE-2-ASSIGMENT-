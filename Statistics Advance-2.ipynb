{
 "cells": [
  {
   "cell_type": "markdown",
   "id": "9e804cb0-06c2-4a54-8390-8bb926896c76",
   "metadata": {},
   "source": [
    "Q1: What are the Probability Mass Function (PMF) and Probability Density Function (PDF)? Explain with\n",
    "an example."
   ]
  },
  {
   "cell_type": "markdown",
   "id": "ddce3c4c-b0a4-4a52-b224-2da2015a99d2",
   "metadata": {},
   "source": [
    "* Probablity Mass Function(PMF) and Probablity Density Function(PDF) are both mathematical concepts used in the \n",
    "  Probablity Therory statistics to Describe the Random Variables . \n",
    "  \n",
    "  \n",
    "# PROBABLITY MASS FUNCTION(PMF) :-\n",
    "\n",
    " * PMF is used for Discrete Random Variables . It gives the Probablity that Discrete the Random Variables is exactly equal \n",
    "   to some value . \n",
    "   \n",
    " * Mathematically for discrete random variable X , the PMF is denoted by P(X=x) where x represent the specific value that \n",
    "   X can Take .\n",
    "   \n",
    " * The sum of all probablity over Possible value of X is 1 . \n",
    "\n",
    "* Let us taking the example of PMF :-\n",
    "\n",
    "* Consider the Rolling of a fair six-sided dice . the PMF of this scenario would assign a probablity 1/6 to each possible \n",
    "  outcome(1,2,3,4,5 or 6) as each outcome has an equal cahnce of ocurring . \n",
    "  \n",
    "  \n",
    "# PROBABLITY DISTRIBUTION FUNCTION(PDF) :-\n",
    "\n",
    " * probablity distribution function(PDF) is used in the countinuos random variable . it represent the likelihood of a \n",
    "   countinuos random variables falling within a particular range of values . \n",
    "   \n",
    " * Unlike PMF, which gives the probablity at a specific points , PDF gives the probablity density at those point .\n",
    " * Mathematically for countinuos random variables X, the PDF is denotes by (X) .\n",
    " * the area under the curve of the PDf over a range of values gives the probablity that X falls within that range . \n",
    " \n",
    "* Let us taking the example of PDF :-\n",
    "\n",
    "* Example :- Consider the height of adult males in a population. The PDF for this scenario might follow a normal (Gaussian) distribution, which means that most males would have heights around the mean height, with fewer individuals having heights much taller or much shorter. The PDF would give the probability density for any given height.\n"
   ]
  },
  {
   "cell_type": "markdown",
   "id": "2fee1e9c-4b9f-4a66-9583-1cdc5b16cc33",
   "metadata": {},
   "source": [
    "Q2: What is Cumulative Density Function (CDF)? Explain with an example. Why CDF is used?"
   ]
  },
  {
   "cell_type": "markdown",
   "id": "f2856317-01dc-4b07-bdba-a302d76b62e9",
   "metadata": {},
   "source": [
    "# CUMULATIVE DENSITY FUNCTION(CDF) :-\n",
    "\n",
    "* => The cumulative density function(CDF) is a function that describe the probablity that a Real-valueed Random variable \n",
    "     X will be found at a value less than or equal to X . In essence it gives the cumulative probablity of a certain Point . \n",
    "     \n",
    "* Mathematically , for a random variable X , The CDF is denoted by F(X) and is defined as :-\n",
    "  F(x) = P(X<x)\n",
    "  \n",
    "* Example => Take a rolling fair six-sided Dice . The CDF scenrio is :-  \n",
    "\n",
    "  * if x is less than 1:F(x) => P(x<1) = 1/6\n",
    "  * if x is less than 2:F(x) => P(x<2) = 2/6 = 1/3\n",
    "  * if x is less than 3:F(x) => P(x<3) = 3/6 = 1/2\n",
    "  * if x is less than 4:F(x) => P(x<4) = 4/6 = 2/3\n",
    "\n",
    "   this examples shows that cumulative frequency is increasing as we moving the Outcomes . \n",
    "   \n",
    "# Why CDF is Used ? \n",
    "\n",
    "* => CDF Stand for cumulative Distribution Function it is used in Probablity theory and Statistcs to decribe the the probablity distribution of random variables. The CDF gives the probablity that a random variable takes on a value less or equal than the given values .\n",
    "\n",
    "* Examples of CDF :-\n",
    "\n",
    "* Describing Probablity Distribution => CDF's provide a concise and comprehensive way to describe the probablity of a \n",
    "  random Variables . By plotting and analzing the CDF and one can undestand the behaviour of the random variables across \n",
    "  its entire Range .\n",
    "  \n",
    "* Calculating Probablities => CDF allows us to calculate the Probablities of Random Variables .For example, the probability of the random variable being less than or equal to a certain value can be directly obtained from the CDF. \n",
    "\n",
    "* Comparing Distribution => CDF's facilitate comparison between different probablity distribution by comparing their CDF\n",
    "  one can assess differences in their shapes, central tendencies, spreads, etc.\n",
    "  \n",
    "* Deriving Other Statistical Measures=> CDFs are often used to derive other statistical measures such as percentiles, quartiles, medians, and moments of a distribution. "
   ]
  },
  {
   "cell_type": "markdown",
   "id": "b308e1fe-07fd-4f1d-b7e6-c337351d98ef",
   "metadata": {},
   "source": [
    "Q3: What are some examples of situations where the normal distribution might be used as a model?\n",
    "Explain how the parameters of the normal distribution relate to the shape of the distribution."
   ]
  },
  {
   "cell_type": "markdown",
   "id": "6ae457c9-1c6b-43ac-a47f-b69fafcc348d",
   "metadata": {},
   "source": [
    "# NORMAL DISTRIBUTION :-\n",
    "\n",
    "* Normal distribution is also known as gaussian distribution is a commonly used probablity distribution in various field\n",
    "  due to its versatility and applicability . \n",
    "  \n",
    "  let us Taking an Example where normal Distribution Model is used :-\n",
    "  \n",
    "# Height of Individuals :-\n",
    "\n",
    "* the height of individual in a population often follow a normal distribution. while there might be slight variations due to \n",
    "  factors such as age,gender,ethinicity, the overall distribution tends to approxmiate a bell-shape Curved.\n",
    "  \n",
    "# MEASUREMENT ERROS :-\n",
    "\n",
    "* Erros in meausrement and observations often exhibit a normal distribution . for Example erros in laboratory measurement \n",
    "  survey responses,and instument reading can be modeled using a Normal Distribution .\n",
    "  \n",
    "# TEST SCORES :-\n",
    "\n",
    "* Test scores such as those exam standradized like the SAT or IQ often approximate a normal Distribution. This allow for applications of statical techniques that assume normality such as calculating Percentiles .\n",
    "\n",
    "# FINANCIAL DATA :-\n",
    "\n",
    "* Returns on financial assets, such as stocks or currencies are often assumend to be normally Distribution in many financial\n",
    "  Distribution . \n",
    "  \n",
    "# BILOGIVAL PHENOMENA :-\n",
    "\n",
    "* Many biological variables , such as weight , blood Pressure and enzyme activity levels follow normal Distribution with the \n",
    "  Given Population . \n",
    "  \n",
    "# 1. Mean => The mean represent the Central Tendency or average of the Distribution . It determines the location of the peak  of the bell curve . Shifting the mean to the right or left in the entire distribution shifting accordingly along the X-Axis.\n",
    "\n",
    "# 2. Standard Deviation => the Standard measure the dispersion or Spread of the distribution. A smaller standard deviation results in a narrower and taller bell curve, indicating the less varibility in the Data . Conversly large Standard Deviation shows the wider or flatter bell curve indiacating greater varibiity .  \n",
    "  "
   ]
  },
  {
   "cell_type": "markdown",
   "id": "eeb7cc15-1b91-4a74-b44b-9bd899a7be53",
   "metadata": {},
   "source": [
    "Q4: Explain the importance of Normal Distribution. Give a few real-life examples of Normal\n",
    "Distribution. \n"
   ]
  },
  {
   "cell_type": "markdown",
   "id": "46095bc0-324e-4e7f-8599-ac779bdf4f96",
   "metadata": {},
   "source": [
    "* The normal distribution is also known as Gaussian Distribution, is a fundamental concept in a statisstics and Probablity\n",
    "  It is Widely used in various field due to it's Property which make it a natural Model for many Real-World Phenomena .\n",
    "  \n",
    "* let us Taking an Example of Normal Distribution :-\n",
    "\n",
    "# Central Limit Theorem(CLT) => The Nomral distribution is intimatley connected with Central Limit theorem, which states that the distribution of the sum(or average) of a large number of independent,identically distributed random variable tends toward a normal distribution regardless of the original distribution of the variables this method used in the finance,economics and Quality Control.\n",
    "\n",
    "# Easy to Work With => The normal Distribution has a simple Mathematical Properties that make it easy to Work analtically and Computataion. its probablity Distribution Function has a Bell shaped Cureve, Characterzied by its Mean and Standrad Deviation which allow for StraightForward Calculations of Probablities and PErcentiles . \n",
    "\n",
    "# Widespread Occurence => Many Natural and Human-made Phenomena exhibit distribution that approxmiate Normal Distribution . this includes measurement of pyhscial characterstics such as height,weight,and blood Pressure in populations as well as social and Economics variables like IQ Score,income,exam score . therefore , Normal Distribution serves as a useful approxmiation for Modeling and Analzing these Phenomena . \n",
    "\n",
    "# REAL LIFE BASED-EXAMPLES \n",
    "\n",
    "* Height of Adults => In a large Population the distribution of adults height tend to follow normal Distribution, with most individuals clustered around the mean height and fewer individuals at extremes . \n",
    "\n",
    "* Exam Scores => In educational settings, the scores of Standardized such as the SAT or GATE often exhibit Normal Distribution among test-taker due to large sample size and the diversity of ablities represented .\n",
    "\n",
    "* Measurement Error => Error in Measurement or Observations due to various sources such as instumentation in accuries or human error often follow a normal Ditribution when aggregated over many instances.\n",
    "\n",
    "* Stock market Returns => Daily stock market returns for many stocks tends to follow normal Distribution, althorugh this assumption is often challenged during periods of extreme market volatility . "
   ]
  },
  {
   "cell_type": "markdown",
   "id": "75494420-84cb-4b44-818c-c2bc729bd339",
   "metadata": {},
   "source": [
    "Q5: What is Bernaulli Distribution? Give an Example. What is the difference between Bernoulli\n",
    "Distribution and Binomial Distribution?"
   ]
  },
  {
   "cell_type": "markdown",
   "id": "72794ccc-22c9-4715-a201-30fce22d5a2b",
   "metadata": {},
   "source": [
    "* A Bernauli Distribution is a discrete probablity distribution that models a single binary outcomes such as sucess of failure , with associated Probablity . \n",
    "\n",
    "* Let us Taking an Example :-\n",
    "\n",
    "* Example: Consider an experiment of flipping a fair coin. Let's define success as getting heads (coded as 1) and failure as getting tails (coded as 0). In this case, the outcome of each coin flip follows a Bernoulli distribution with \\( p = 0.5 \\), as there is an equal probability of success (heads) and failure (tails).\n",
    " \n",
    " * So for Each Coin Flip:-\n",
    "  * P(X=1) => 0.5(Probablity of getting Head) \n",
    "  * P(X=0) => 0.5(Probablity of getting Tails)\n",
    " \n",
    "* Summary => The Bernouli Distribution is Commonly is used in scenarios where there are two possible outcome and it serves as the building block for more complex distributions such as the Binomial and Geometric distributions.\n",
    "\n",
    "# DIFFERENCES BETWEEN BERNOULI DISTRIBUTION AND BIONOIMAL DISTRIBUTION :-\n",
    "\n",
    "* The Bernoulli and Binomial Distribution are closely Related, but they are differ in their scope and the number of Trial \n",
    "  Are Involved . \n",
    "  \n",
    "# BERNOULLI DISTRIBUTION ^_^\n",
    "\n",
    " * Represent the Single Trial with two possible outcomes(eg... sucesses or Failure)\n",
    " * Characterzied by a single paramter p, the probabkity of sucess .\n",
    " * The Random Variable X in a Bernoulli Distribution can Take only two values:1(Sucess) with probablity p, and 0(failure)\n",
    "   With Probablity 1-p . \n",
    " * It is essentially the Simplest case of a binomial Distribution where there is only one Trail . \n",
    " \n",
    "# BINOMIAL DISTRIBUTION ^_^ \n",
    "\n",
    " * Describe the number of sucesses in a fixed number independent Bernoulli Trials .\n",
    " * Characterzied by two Paramter: n number of Trials and p probablity of Sucesses in each Trail .\n",
    " * The Random Vaiable X in a Binomial Dostribution Represent the number of Sucesses in n independent Bernoulli Trails . \n",
    " \n",
    " \n",
    "# SUMMARY :-\n",
    "\n",
    "* In summary, while the Bernoulli distribution deals with a single trial and describes the probability of success or failure in that single trial, the Binomial distribution extends this concept to multiple trials, providing a distribution for the number of successes in those trials. The Binomial distribution is essentially the sum of independent and identically distributed (i.i.d.) Bernoulli random variables . "
   ]
  },
  {
   "cell_type": "markdown",
   "id": "276979c0-8374-44cf-bba9-a891f350ce58",
   "metadata": {},
   "source": [
    "Q6. Consider a dataset with a mean of 50 and a standard deviation of 10. If we assume that the dataset\n",
    "is normally distributed, what is the probability that a randomly selected observation will be greater\n",
    "than 60? Use the appropriate formula and show your calculations"
   ]
  },
  {
   "cell_type": "markdown",
   "id": "5cb605a2-5e6a-4884-a80f-3125d9fd50ad",
   "metadata": {},
   "source": [
    "* To Find the probablity of Random Selected Observation from a, Normally Distributed dataset with a mean 50 and Std 10 will\n",
    "  Be Greater Than 60 , we can use Z-Score Formula And Standard Normal distribution Table.\n",
    "  \n",
    "  \n",
    "# FORMULA :-\n",
    "\n",
    " * Z-Test = [ X - Mean ]\n",
    "                Std\n",
    "                \n",
    " * X => X is the value we want to find Probablity(in this case,60)\n",
    " * Mean\n",
    " * Std => Standard Deviation Dataset(10) \n",
    " \n",
    "* Putting the values in the Formula , \n",
    "\n",
    "  * Z = [60-50]/10 => [10] => 1 \n",
    "          \n",
    "* Now we look up the coressponding Probablity from the Standard Normal Distribution Table or Use Calculator or software that \n",
    "  Provide this Functionatily. The Probablity associated with a Z-Score of 1(P(Z>1)) is Approxmateily 0.1587 .\n",
    "  \n",
    "* So the Probablity that a Random Selected Obervation will be the  greater than the 60 is approxmateliy 0.1587 & 15.87% \n"
   ]
  },
  {
   "cell_type": "markdown",
   "id": "1313b767-7c85-43eb-aa14-3800982ac0bd",
   "metadata": {},
   "source": [
    "Q7: Explain uniform Distribution with an example.\n",
    "\n"
   ]
  },
  {
   "cell_type": "markdown",
   "id": "a1ba9bfb-b730-4682-9449-ea8fc014e7cf",
   "metadata": {},
   "source": [
    "# UNIFORM DISTRIBUTION ^_^ \n",
    "\n",
    "* A unifrom Distribution is also known as rectangular distribution, is a probablity distribution where all the outcomes \n",
    "  within a Specified Range are equally likely . In the other words each value within Range has Equal Probablity of Occuring.\n",
    "  This type of Distribution is used in the Various Field including Statisstics,Economics and Engineering , to Model the\n",
    "  Situtaion where every outcome is Equal Probable . \n",
    "  \n",
    "* Let us Taking the Example of Unifrom Distribution :-  \n",
    "  \n",
    "* Example => Suppose you have a fair six-sided die. When you roll this die, each face (number) has an equal probability of landing face-up. The possible outcomes are numbers 1 through 6. This situation follows a uniform distribution because each outcome (1, 2, 3, 4, 5, or 6) has a probability of 1/6 which is same for all Possible Value . \n",
    "\n",
    "* Let us Calculating the Probablity for a Specific Event using the Unifrom Distribution .\n",
    "  * Probability of rolling a 3 :- Since each face of the die has an equal probability of 1/6 the Probablity of Rolling 3 is\n",
    "    also 1/6 or Aproxmately is 0.1667(16.67)%\n",
    "  * Probablity of Rolling Even Number :- there are three even number(2,4 or 6) on the die . therefore the Probablity of \n",
    "    Rolling the even number is 3/6 => 1/2 or 0.5(50)%     "
   ]
  },
  {
   "cell_type": "markdown",
   "id": "2ef7b6b0-6a06-4bdc-badf-895a6d22fcdc",
   "metadata": {},
   "source": [
    "Q8: What is the z score? State the importance of the z score."
   ]
  },
  {
   "cell_type": "markdown",
   "id": "4919ebfc-60bb-4d80-b099-1ecac9dfd730",
   "metadata": {},
   "source": [
    "# Z-SCORE \n",
    "\n",
    "* The Z-Score also known as the standard Score or Z-value is a Statistics measures that indicates how many standard \n",
    "  Deviation a data Point is from the mean of the Dataset . it's a way to standrize data and compare individual data\n",
    "  points to the overall distribution of the data . \n",
    "  \n",
    "* FORMUALA :-\n",
    "\n",
    " * Z => Z-Score .\n",
    " * X => X is the Data Point .\n",
    " * Mean of the Dataset . \n",
    " * Standard Deviation of the Dataset . \n",
    " * Z = [ X - Mean ]/Standard Deviation \n",
    " \n",
    "* Standarization :- Z Score allow us to Stanadarize data by transforming it into common scale . this standarization is \n",
    "                    helpful when comparing data points from different distribution or dataset that have different units \n",
    "                    or Scale .\n",
    "                    \n",
    "* Outlier Decetion :- Z-Score are used to identify outliers in a dataset . Data point with Z-scores that are significantly\n",
    "                      higer or lower than the Mean(typically beyond +-2 or +-3 standard deviations) may indicate outliers\n",
    "                      or unsual observation . \n",
    "                      \n",
    "* Probablity and Normal Distribution :- Z-score are closely related to the standard normal distribution , also known as the\n",
    "                                        Z-distribution . in a standard normal Distribution a Z score of Correspond to the\n",
    "                                        mean and the positive and Negative Z-Score represent the Datapoint above or below \n",
    "                                        the mean , Respectively Z-Score are used to Calculate probablities asscoiated with\n",
    "                                        specific Data value in a normal Distribution using Z-table or Software .\n",
    "                                        \n",
    "* Data Analysis and Comparison :- Z-scores are useful in data analysis for comparing individual data points to the overall distribution. They help determine how typical or atypical a data point is compared to the rest of the dataset .                                         "
   ]
  },
  {
   "cell_type": "markdown",
   "id": "6c5beca4-cfd7-43cd-8ebf-1f32dd68ffd5",
   "metadata": {},
   "source": [
    "Q9: What is Central Limit Theorem? State the significance of the Central Limit Theorem"
   ]
  },
  {
   "cell_type": "markdown",
   "id": "62a011d3-f957-4e2f-a67f-995adbf4440a",
   "metadata": {},
   "source": [
    "# CENTRAL LIMIT THEOREM :-\n",
    "\n",
    " * The Central limit Theorem(CLT) is a fundamental concept in the Statisstics that describe the behavoiur of the sample mean\n",
    "   or sum of large number of independent and identically distributed Random Variable . It states that Regardless of the \n",
    "   Distribution of the individual variables as the sample size increases the distribution of the sample mean(sum) will tend\n",
    "   to approach normal Distribution . \n",
    "   \n",
    "# Significance Of the Central Limit Theorem  ^_^ \n",
    "\n",
    " * Nomral Distribution Approxmation :- One of the most important implicantions of the CLT is that it allows us to \n",
    "   approxmiate the Distribution of Sample Mean(or sums) with a nomral distribution  even if the original Population\n",
    "   distribution is not normal . this is the highly vauleable because the normal distribution is well-understood and\n",
    "   has many statistical properties that make analysis and inference eaiser . \n",
    "   \n",
    " * Inference Estimation :- The CLT is foundational for statistical inference and Estimation . It enable Reseracher and \n",
    "   analysis to make inference about poupulation paramter based on sample statistical such as calculation confidence \n",
    "   interval or conducting hypothesis testing . \n",
    "   \n",
    " * Large Sample Size :- the CLT is particularly revelent for large sample size . As the sample size increases, the accuracy\n",
    "   of the normal Approxmation is improving .  This is why many statistical procedures and tests rely on the assumption of\n",
    "   large sample sizes to apply the CLT effectively . \n",
    "   \n",
    " * Practical Applications :- the CLT is extensively used in field such as economics , engineering , social science ,\n",
    "   and Quality control . it forms the basis techniques like :- hypothesis testing , confidence interval , Regression \n",
    "   analysis and more . \n",
    "   \n",
    " * Robustness :- The CLT is robust against different underlying distributions of the random variables, as long as they are independent and identically distributed. This makes it applicable in a wide range of real-world scenarios, where data may follow various distributions."
   ]
  },
  {
   "cell_type": "markdown",
   "id": "ee6c1703-4f71-498e-b26b-220089aa62ac",
   "metadata": {},
   "source": [
    "Q10: State the assumptions of the Central Limit Theorem.\n"
   ]
  },
  {
   "cell_type": "markdown",
   "id": "5953db03-1777-4a3e-a520-44e9f6c54e57",
   "metadata": {},
   "source": [
    "# CENTRAL LIMIT THEOREM :-\n",
    "\n",
    " * The Central Limit Theorem (CLT) is a fundamental concept in statistics that describes the behavior of the sample mean or    sum of a large number of independent and identically distributed random variables. However, the CLT is based on several      assumptions, which are essential for its validity and applicability . \n",
    " \n",
    "# ASSUMPTIONS :-\n",
    "\n",
    " * Independence :- The random variables in the sample must be independent of each other. This means that the outcome of one    variable should not influence the outcome of another variable. Independence is crucial because the CLT relies on the idea    that individual observations are not correlated with each other .\n",
    " \n",
    " * Identically Distributed :- The random variables must be identically distributed, meaning they are drawn from the same        probability distribution. This ensures that each observation in the sample has the same underlying probability              distribution, which is a key requirement for the CLT to apply.\n",
    " \n",
    " * Finite Variance :- The random variables must have finite variance (i.e., they must not exhibit infinite variability).        Variance measures the spread or dispersion of the data points around the mean. Finite variance ensures that the sample      mean or sum converges to a well-defined value as the sample size increases . \n",
    " \n",
    " * Finite Mean :- Similarly, the random variables must have a finite mean (expectation). The mean of a random variable          represents its average value, and having a finite mean ensures that the sample mean or sum is not skewed or distorted in    a way that would violate the assumptions of the CLT .\n",
    " \n",
    " * Large Sample Size: While not strictly an assumption in the traditional sense, the CLT is most effective and accurate when    applied to large sample sizes. As the sample size increases, the distribution of the sample mean or sum increasingly        approximates a normal distribution, as predicted by the CLT ."
   ]
  },
  {
   "cell_type": "code",
   "execution_count": null,
   "id": "ce877964-8d4a-40cd-97e7-5fc445537371",
   "metadata": {},
   "outputs": [],
   "source": []
  }
 ],
 "metadata": {
  "kernelspec": {
   "display_name": "Python 3 (ipykernel)",
   "language": "python",
   "name": "python3"
  },
  "language_info": {
   "codemirror_mode": {
    "name": "ipython",
    "version": 3
   },
   "file_extension": ".py",
   "mimetype": "text/x-python",
   "name": "python",
   "nbconvert_exporter": "python",
   "pygments_lexer": "ipython3",
   "version": "3.10.8"
  }
 },
 "nbformat": 4,
 "nbformat_minor": 5
}
